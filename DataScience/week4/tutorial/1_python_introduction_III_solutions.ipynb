{
 "cells": [
  {
   "cell_type": "markdown",
   "metadata": {},
   "source": [
    "# Python Introduction Solutions - Part 3"
   ]
  },
  {
   "cell_type": "markdown",
   "metadata": {},
   "source": [
    "This notebook contains more advanced excersices. Each excercise has multiple solutions, but try to follow hints given after the task description."
   ]
  },
  {
   "cell_type": "markdown",
   "metadata": {},
   "source": [
    "## Exercise 1"
   ]
  },
  {
   "cell_type": "markdown",
   "metadata": {},
   "source": [
    "Write a program which uses map() and filter() to make a list whose elements are square of even number in [1,2,3,4,5,6,7,8,9,10].\n",
    "\n",
    "**Hint:**\n",
    "* use map() to generate a list,\n",
    "* use filter() to filter elements of a list,\n",
    "* use lambda to define anonymous functions."
   ]
  },
  {
   "cell_type": "code",
   "execution_count": 1,
   "metadata": {
    "collapsed": true
   },
   "outputs": [],
   "source": [
    "lst = [1,2,3,4,5,6,7,8,9,10]"
   ]
  },
  {
   "cell_type": "code",
   "execution_count": 2,
   "metadata": {},
   "outputs": [
    {
     "name": "stdout",
     "output_type": "stream",
     "text": [
      "[4, 16, 36, 64, 100]\n"
     ]
    }
   ],
   "source": [
    "evenNumbers = map(lambda x: x**2, filter(lambda x: x%2==0, lst))\n",
    "print(list(evenNumbers))"
   ]
  },
  {
   "cell_type": "markdown",
   "metadata": {},
   "source": [
    "## Exercise 2"
   ]
  },
  {
   "cell_type": "markdown",
   "metadata": {},
   "source": [
    "Write a program which uses map(), filter() and reduce() to compute sum of squares of even elements in list [1,2,3,4,5,6,7,8,9,10].\n",
    "\n",
    "**Hint:**\n",
    "* use filter() to filter out odd elements,\n",
    "* use map() to compute squares of remaining even elements in the list,\n",
    "* use reduce() to compute sum of the element in the list,\n",
    "* use lambda to define anonymous functions."
   ]
  },
  {
   "cell_type": "code",
   "execution_count": 1,
   "metadata": {
    "collapsed": true
   },
   "outputs": [],
   "source": [
    "from functools import reduce\n",
    "\n",
    "lst = [1,2,3,4,5,6,7,8,9,10]"
   ]
  },
  {
   "cell_type": "code",
   "execution_count": 2,
   "metadata": {},
   "outputs": [
    {
     "name": "stdout",
     "output_type": "stream",
     "text": [
      "220\n"
     ]
    }
   ],
   "source": [
    "sum = reduce(lambda x, y: x+y, map(lambda x: x**2, filter(lambda x: x%2==0, lst)))\n",
    "print(sum)"
   ]
  },
  {
   "cell_type": "markdown",
   "metadata": {},
   "source": [
    "## Exercise 3"
   ]
  },
  {
   "cell_type": "markdown",
   "metadata": {},
   "source": [
    "Write a program where a user provides a number as an input and the program ouputs a sequence of Fibonacci numbers with the number of elements in the squence equal to the input provided by the user. \n",
    "\n",
    "**Hint:**\n",
    "\n",
    "* The Fibonacci seqence is a sequence of numbers where the next number in the sequence is the sum of the previous two numbers in the sequence. The sequence looks like this: 1, 1, 2, 3, 5, 8, 13, …)"
   ]
  },
  {
   "cell_type": "code",
   "execution_count": 5,
   "metadata": {},
   "outputs": [
    {
     "name": "stdin",
     "output_type": "stream",
     "text": [
      "How many fibonacci numbers would you like to generate?  5\n"
     ]
    }
   ],
   "source": [
    "count = int(input(\"How many fibonacci numbers would you like to generate? \"))"
   ]
  },
  {
   "cell_type": "code",
   "execution_count": 6,
   "metadata": {},
   "outputs": [
    {
     "name": "stdout",
     "output_type": "stream",
     "text": [
      "[1, 1, 2, 3, 5]\n"
     ]
    }
   ],
   "source": [
    "def fib(count):\n",
    "    i = 1\n",
    "    if count == 0:\n",
    "        fib = []\n",
    "    elif count == 1:\n",
    "        fib = [1]\n",
    "    elif count == 2:\n",
    "        fib = [1,1]\n",
    "    elif count > 2:\n",
    "        fib = [1,1]\n",
    "        while i < (count - 1):\n",
    "            fib.append(fib[i] + fib[i-1])\n",
    "            i += 1\n",
    "\n",
    "    return fib\n",
    "\n",
    "print(fib(count))"
   ]
  },
  {
   "cell_type": "markdown",
   "metadata": {},
   "source": [
    "## Exercise 4"
   ]
  },
  {
   "cell_type": "markdown",
   "metadata": {},
   "source": [
    "Make a two-player Rock-Paper-Scissors game. \n",
    "\n",
    "Rules of the game:\n",
    "\n",
    "* Rock beats scissors\n",
    "* Scissors beats paper\n",
    "* Paper beats rock"
   ]
  },
  {
   "cell_type": "code",
   "execution_count": 16,
   "metadata": {},
   "outputs": [
    {
     "name": "stdin",
     "output_type": "stream",
     "text": [
      "Player 1, do you want to choose rock, paper or scissors? rock\n",
      "Player 2, do you want to choose rock, paper or scissors? paper\n"
     ]
    }
   ],
   "source": [
    "user1_answer = input(\"Player 1, do you want to choose rock, paper or scissors?\")\n",
    "user2_answer = input(\"Player 2, do you want to choose rock, paper or scissors?\")"
   ]
  },
  {
   "cell_type": "code",
   "execution_count": 17,
   "metadata": {},
   "outputs": [
    {
     "name": "stdout",
     "output_type": "stream",
     "text": [
      "Player 2 wins!\n"
     ]
    }
   ],
   "source": [
    "def compare(u1, u2):\n",
    "    if u1 == u2:\n",
    "        return(\"It's a tie!\")\n",
    "    elif u1 == 'rock':\n",
    "        if u2 == 'scissors':\n",
    "            return(\"Player 1 wins!\")\n",
    "        else:\n",
    "            return(\"Player 2 wins!\")\n",
    "    elif u1 == 'scissors':\n",
    "        if u2 == 'paper':\n",
    "            return(\"Player 1!\")\n",
    "        else:\n",
    "            return(\"Player 2 wins!\")\n",
    "    elif u1 == 'paper':\n",
    "        if u2 == 'rock':\n",
    "            return(\"Player 1 wins!\")\n",
    "        else:\n",
    "            return(\"Player 2 wins!\")\n",
    "    else:\n",
    "        return(\"Invalid input! You have not entered rock, paper or scissors, try again.\")\n",
    "\n",
    "print(compare(user1_answer, user2_answer))"
   ]
  },
  {
   "cell_type": "markdown",
   "metadata": {},
   "source": [
    "Alternative solution"
   ]
  },
  {
   "cell_type": "code",
   "execution_count": 1,
   "metadata": {},
   "outputs": [
    {
     "name": "stdin",
     "output_type": "stream",
     "text": [
      "Player 1, do you want to choose rock, paper or scissors? rock\n",
      "Player 2, do you want to choose rock, paper or scissors? paper\n"
     ]
    },
    {
     "data": {
      "text/plain": [
       "'Player 2 wins!'"
      ]
     },
     "execution_count": 1,
     "metadata": {},
     "output_type": "execute_result"
    }
   ],
   "source": [
    "def rock_paper_scissors() :\n",
    "    v_dict ={'rock':'scissors','scissors':'paper','paper':'rock'}\n",
    "    user1_answer = str(input(\"Player 1, do you want to choose rock, paper or scissors?\"))\n",
    "    user2_answer = str(input(\"Player 2, do you want to choose rock, paper or scissors?\"))\n",
    "    if(user1_answer in v_dict and user2_answer in v_dict):\n",
    "        if user2_answer == user1_answer:\n",
    "            return \"It's a tie!\"\n",
    "        elif v_dict[user1_answer] == user2_answer :\n",
    "            return 'Player 1 wins!'\n",
    "        elif v_dict[user2_answer] == user1_answer :\n",
    "            return 'Player 2 wins!'\n",
    "        else:\n",
    "            return 'No winner'\n",
    "    else: \n",
    "        return 'Wrong input'\n",
    "\n",
    "rock_paper_scissors()"
   ]
  },
  {
   "cell_type": "markdown",
   "metadata": {},
   "source": [
    "## Exercise 5"
   ]
  },
  {
   "cell_type": "markdown",
   "metadata": {},
   "source": [
    "Ask the user for a number and determine whether the number is prime or not."
   ]
  },
  {
   "cell_type": "code",
   "execution_count": 33,
   "metadata": {},
   "outputs": [
    {
     "name": "stdin",
     "output_type": "stream",
     "text": [
      "Input a number you want to check for primality 37\n"
     ]
    }
   ],
   "source": [
    "number = int(input(\"Input a number you want to check for primality\"))"
   ]
  },
  {
   "cell_type": "code",
   "execution_count": 34,
   "metadata": {},
   "outputs": [
    {
     "name": "stdout",
     "output_type": "stream",
     "text": [
      "The number is prime\n"
     ]
    }
   ],
   "source": [
    "def is_prime(number):\n",
    "    '''Returns True for prime numbers, False otherwise'''\n",
    "    prime = False\n",
    "    #Edge Cases\n",
    "    if number == 1:\n",
    "        prime = False\n",
    "    elif number == 2:\n",
    "        prime = True\n",
    "    #All other primes    \n",
    "    else:\n",
    "        prime = True\n",
    "        for check_number in range(2, (number // 2)+1):\n",
    "            if number % check_number == 0:\n",
    "                prime = False\n",
    "                break\n",
    "    return prime\n",
    "\n",
    "if is_prime(number):\n",
    "    print(\"The number is prime\")\n",
    "else:\n",
    "    print(\"The number is not prime\")"
   ]
  }
 ],
 "metadata": {
  "kernelspec": {
   "display_name": "Python 3",
   "language": "python",
   "name": "python3"
  },
  "language_info": {
   "codemirror_mode": {
    "name": "ipython",
    "version": 3
   },
   "file_extension": ".py",
   "mimetype": "text/x-python",
   "name": "python",
   "nbconvert_exporter": "python",
   "pygments_lexer": "ipython3",
   "version": "3.6.3"
  }
 },
 "nbformat": 4,
 "nbformat_minor": 2
}
