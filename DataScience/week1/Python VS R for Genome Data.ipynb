{
 "cells": [
  {
   "cell_type": "markdown",
   "metadata": {},
   "source": [
    "\n",
    "This is a re-implementation of some Pythona and R code based off the article, https://shiring.github.io/r_vs_python/2017/01/22/R_vs_Py_post which was based off of https://www.toptal.com/python/comprehensive-introduction-your-genome-scipy\n"
   ]
  },
  {
   "cell_type": "code",
   "execution_count": 7,
   "metadata": {},
   "outputs": [
    {
     "name": "stdout",
     "output_type": "stream",
     "text": [
      "/bin/sh: wget: command not found\n"
     ]
    }
   ],
   "source": [
    "# !wget ftp://ftp.ensembl.org/pub/release-85/gff3/homo_sapiens/Homo_sapiens.GRCh38.85.gff3.gz"
   ]
  },
  {
   "cell_type": "code",
   "execution_count": 1,
   "metadata": {},
   "outputs": [],
   "source": [
    "import pandas as pd\n",
    "import matplotlib as plt\n",
    "%matplotlib inline"
   ]
  },
  {
   "cell_type": "code",
   "execution_count": 2,
   "metadata": {},
   "outputs": [],
   "source": [
    "import warnings\n",
    "warnings.filterwarnings('ignore')"
   ]
  },
  {
   "cell_type": "code",
   "execution_count": 3,
   "metadata": {},
   "outputs": [],
   "source": [
    "%load_ext rpy2.ipython"
   ]
  },
  {
   "cell_type": "code",
   "execution_count": 4,
   "metadata": {},
   "outputs": [
    {
     "name": "stdout",
     "output_type": "stream",
     "text": [
      "\n",
      "Error in library(ggplot2) : there is no package called ‘ggplot2’\n"
     ]
    }
   ],
   "source": [
    "%%R\n",
    "library(dplyr)\n",
    "library(ggplot2)\n"
   ]
  },
  {
   "cell_type": "code",
   "execution_count": 8,
   "metadata": {},
   "outputs": [
    {
     "name": "stdout",
     "output_type": "stream",
     "text": [
      "9.64 s ± 0 ns per loop (mean ± std. dev. of 1 run, 1 loop each)\n"
     ]
    }
   ],
   "source": [
    "%%timeit -n 1 -r 1\n",
    "global df\n",
    "col_names = ['seqid', 'source', 'type', 'start', 'end', 'score', 'strand', 'phase', 'attributes']\n",
    "df = pd.read_csv('Homo_sapiens.GRCh38.85.gff3.gz', compression='gzip',\n",
    "                         sep='\\t', comment='#', low_memory=False,\n",
    "                         header=None, names=col_names)"
   ]
  },
  {
   "cell_type": "code",
   "execution_count": 9,
   "metadata": {},
   "outputs": [
    {
     "data": {
      "text/plain": [
       "  seqid source              type start       end   score strand phase\n",
       "1     1 GRCh38        chromosome     1 248956422       .      .     .\n",
       "2     1      . biological_region 10469     11240 1.3e+03      .     .\n",
       "3     1      . biological_region 10650     10657   0.999      +     .\n",
       "4     1      . biological_region 10655     10657   0.999      -     .\n",
       "5     1      . biological_region 10678     10687   0.999      +     .\n",
       "6     1      . biological_region 10681     10688   0.999      -     .\n",
       "                                          attributes\n",
       "1 ID=chromosome:1;Alias=CM000663.2,chr1,NC_000001.11\n",
       "2           external_name=oe %3D 0.79;logic_name=cpg\n",
       "3                                 logic_name=eponine\n",
       "4                                 logic_name=eponine\n",
       "5                                 logic_name=eponine\n",
       "6                                 logic_name=eponine\n"
      ]
     },
     "metadata": {},
     "output_type": "display_data"
    },
    {
     "name": "stdout",
     "output_type": "stream",
     "text": [
      "1min 34s ± 0 ns per loop (mean ± std. dev. of 1 run, 1 loop each)\n"
     ]
    }
   ],
   "source": [
    "%%timeit -n 1 -r 1\n",
    "%%R\n",
    "df <- read.csv(\"Homo_sapiens.GRCh38.85.gff3.gz\", \n",
    "               header = FALSE, \n",
    "               sep = \"\\t\", \n",
    "               col.names = c('seqid', 'source', 'type', 'start', 'end', 'score', 'strand', 'phase', 'attributes'), \n",
    "               comment.char = \"#\")\n",
    "head(df)"
   ]
  },
  {
   "cell_type": "code",
   "execution_count": 10,
   "metadata": {},
   "outputs": [
    {
     "name": "stdout",
     "output_type": "stream",
     "text": [
      "['1' '10' '11' '12' '13' '14' '15' '16' '17' '18' '19' '2' '20' '21' '22'\n",
      " '3' '4' '5' '6' '7' '8' '9' 'GL000008.2' 'GL000009.2' 'GL000194.1'\n",
      " 'GL000195.1' 'GL000205.2' 'GL000208.1' 'GL000213.1' 'GL000214.1'\n",
      " 'GL000216.2' 'GL000218.1' 'GL000219.1' 'GL000220.1' 'GL000221.1'\n",
      " 'GL000224.1' 'GL000225.1' 'GL000226.1' 'KI270302.1' 'KI270303.1'\n",
      " 'KI270304.1' 'KI270305.1' 'KI270310.1' 'KI270311.1' 'KI270312.1'\n",
      " 'KI270315.1' 'KI270316.1' 'KI270317.1' 'KI270320.1' 'KI270322.1'\n",
      " 'KI270329.1' 'KI270330.1' 'KI270333.1' 'KI270334.1' 'KI270335.1'\n",
      " 'KI270336.1' 'KI270337.1' 'KI270338.1' 'KI270340.1' 'KI270362.1'\n",
      " 'KI270363.1' 'KI270364.1' 'KI270366.1' 'KI270371.1' 'KI270372.1'\n",
      " 'KI270373.1' 'KI270374.1' 'KI270375.1' 'KI270376.1' 'KI270378.1'\n",
      " 'KI270379.1' 'KI270381.1' 'KI270382.1' 'KI270383.1' 'KI270384.1'\n",
      " 'KI270385.1' 'KI270386.1' 'KI270387.1' 'KI270388.1' 'KI270389.1'\n",
      " 'KI270390.1' 'KI270391.1' 'KI270392.1' 'KI270393.1' 'KI270394.1'\n",
      " 'KI270395.1' 'KI270396.1' 'KI270411.1' 'KI270412.1' 'KI270414.1'\n",
      " 'KI270417.1' 'KI270418.1' 'KI270419.1' 'KI270420.1' 'KI270422.1'\n",
      " 'KI270423.1' 'KI270424.1' 'KI270425.1' 'KI270429.1' 'KI270435.1'\n",
      " 'KI270438.1' 'KI270442.1' 'KI270448.1' 'KI270465.1' 'KI270466.1'\n",
      " 'KI270467.1' 'KI270468.1' 'KI270507.1' 'KI270508.1' 'KI270509.1'\n",
      " 'KI270510.1' 'KI270511.1' 'KI270512.1' 'KI270515.1' 'KI270516.1'\n",
      " 'KI270517.1' 'KI270518.1' 'KI270519.1' 'KI270521.1' 'KI270522.1'\n",
      " 'KI270528.1' 'KI270529.1' 'KI270530.1' 'KI270538.1' 'KI270539.1'\n",
      " 'KI270544.1' 'KI270548.1' 'KI270579.1' 'KI270580.1' 'KI270581.1'\n",
      " 'KI270582.1' 'KI270583.1' 'KI270584.1' 'KI270587.1' 'KI270588.1'\n",
      " 'KI270589.1' 'KI270590.1' 'KI270591.1' 'KI270593.1' 'KI270706.1'\n",
      " 'KI270707.1' 'KI270708.1' 'KI270709.1' 'KI270710.1' 'KI270711.1'\n",
      " 'KI270712.1' 'KI270713.1' 'KI270714.1' 'KI270715.1' 'KI270716.1'\n",
      " 'KI270717.1' 'KI270718.1' 'KI270719.1' 'KI270720.1' 'KI270721.1'\n",
      " 'KI270722.1' 'KI270723.1' 'KI270724.1' 'KI270725.1' 'KI270726.1'\n",
      " 'KI270727.1' 'KI270728.1' 'KI270729.1' 'KI270730.1' 'KI270731.1'\n",
      " 'KI270732.1' 'KI270733.1' 'KI270734.1' 'KI270735.1' 'KI270736.1'\n",
      " 'KI270737.1' 'KI270738.1' 'KI270739.1' 'KI270740.1' 'KI270741.1'\n",
      " 'KI270742.1' 'KI270743.1' 'KI270744.1' 'KI270745.1' 'KI270746.1'\n",
      " 'KI270747.1' 'KI270748.1' 'KI270749.1' 'KI270750.1' 'KI270751.1'\n",
      " 'KI270752.1' 'KI270753.1' 'KI270754.1' 'KI270755.1' 'KI270756.1'\n",
      " 'KI270757.1' 'MT' 'X' 'Y']\n",
      "65.5 ms ± 0 ns per loop (mean ± std. dev. of 1 run, 1 loop each)\n"
     ]
    }
   ],
   "source": [
    "%%timeit -n 1 -r 1\n",
    "print(df.seqid.unique())"
   ]
  },
  {
   "cell_type": "code",
   "execution_count": 11,
   "metadata": {},
   "outputs": [
    {
     "data": {
      "text/plain": [
       "  [1] 1          10         11         12         13         14        \n",
       "  [7] 15         16         17         18         19         2         \n",
       " [13] 20         21         22         3          4          5         \n",
       " [19] 6          7          8          9          GL000008.2 GL000009.2\n",
       " [25] GL000194.1 GL000195.1 GL000205.2 GL000208.1 GL000213.1 GL000214.1\n",
       " [31] GL000216.2 GL000218.1 GL000219.1 GL000220.1 GL000221.1 GL000224.1\n",
       " [37] GL000225.1 GL000226.1 KI270302.1 KI270303.1 KI270304.1 KI270305.1\n",
       " [43] KI270310.1 KI270311.1 KI270312.1 KI270315.1 KI270316.1 KI270317.1\n",
       " [49] KI270320.1 KI270322.1 KI270329.1 KI270330.1 KI270333.1 KI270334.1\n",
       " [55] KI270335.1 KI270336.1 KI270337.1 KI270338.1 KI270340.1 KI270362.1\n",
       " [61] KI270363.1 KI270364.1 KI270366.1 KI270371.1 KI270372.1 KI270373.1\n",
       " [67] KI270374.1 KI270375.1 KI270376.1 KI270378.1 KI270379.1 KI270381.1\n",
       " [73] KI270382.1 KI270383.1 KI270384.1 KI270385.1 KI270386.1 KI270387.1\n",
       " [79] KI270388.1 KI270389.1 KI270390.1 KI270391.1 KI270392.1 KI270393.1\n",
       " [85] KI270394.1 KI270395.1 KI270396.1 KI270411.1 KI270412.1 KI270414.1\n",
       " [91] KI270417.1 KI270418.1 KI270419.1 KI270420.1 KI270422.1 KI270423.1\n",
       " [97] KI270424.1 KI270425.1 KI270429.1 KI270435.1 KI270438.1 KI270442.1\n",
       "[103] KI270448.1 KI270465.1 KI270466.1 KI270467.1 KI270468.1 KI270507.1\n",
       "[109] KI270508.1 KI270509.1 KI270510.1 KI270511.1 KI270512.1 KI270515.1\n",
       "[115] KI270516.1 KI270517.1 KI270518.1 KI270519.1 KI270521.1 KI270522.1\n",
       "[121] KI270528.1 KI270529.1 KI270530.1 KI270538.1 KI270539.1 KI270544.1\n",
       "[127] KI270548.1 KI270579.1 KI270580.1 KI270581.1 KI270582.1 KI270583.1\n",
       "[133] KI270584.1 KI270587.1 KI270588.1 KI270589.1 KI270590.1 KI270591.1\n",
       "[139] KI270593.1 KI270706.1 KI270707.1 KI270708.1 KI270709.1 KI270710.1\n",
       "[145] KI270711.1 KI270712.1 KI270713.1 KI270714.1 KI270715.1 KI270716.1\n",
       "[151] KI270717.1 KI270718.1 KI270719.1 KI270720.1 KI270721.1 KI270722.1\n",
       "[157] KI270723.1 KI270724.1 KI270725.1 KI270726.1 KI270727.1 KI270728.1\n",
       "[163] KI270729.1 KI270730.1 KI270731.1 KI270732.1 KI270733.1 KI270734.1\n",
       "[169] KI270735.1 KI270736.1 KI270737.1 KI270738.1 KI270739.1 KI270740.1\n",
       "[175] KI270741.1 KI270742.1 KI270743.1 KI270744.1 KI270745.1 KI270746.1\n",
       "[181] KI270747.1 KI270748.1 KI270749.1 KI270750.1 KI270751.1 KI270752.1\n",
       "[187] KI270753.1 KI270754.1 KI270755.1 KI270756.1 KI270757.1 MT        \n",
       "[193] X          Y         \n",
       "194 Levels: 1 10 11 12 13 14 15 16 17 18 19 2 20 21 22 3 4 5 6 7 8 ... Y\n"
      ]
     },
     "metadata": {},
     "output_type": "display_data"
    },
    {
     "name": "stdout",
     "output_type": "stream",
     "text": [
      "76 ms ± 0 ns per loop (mean ± std. dev. of 1 run, 1 loop each)\n"
     ]
    }
   ],
   "source": [
    "%%timeit -n 1 -r 1\n",
    "%%R\n",
    "unique(df$seqid)"
   ]
  },
  {
   "cell_type": "code",
   "execution_count": 12,
   "metadata": {},
   "outputs": [
    {
     "name": "stdout",
     "output_type": "stream",
     "text": [
      "69.6 ms ± 0 ns per loop (mean ± std. dev. of 1 run, 1 loop each)\n"
     ]
    }
   ],
   "source": [
    "%%timeit -n 1 -r 1\n",
    "df.seqid.unique().shape"
   ]
  },
  {
   "cell_type": "code",
   "execution_count": 13,
   "metadata": {},
   "outputs": [
    {
     "data": {
      "text/plain": [
       "[1] 194\n"
      ]
     },
     "metadata": {},
     "output_type": "display_data"
    },
    {
     "name": "stdout",
     "output_type": "stream",
     "text": [
      "69.2 ms ± 0 ns per loop (mean ± std. dev. of 1 run, 1 loop each)\n"
     ]
    }
   ],
   "source": [
    "%%timeit -n 1 -r 1\n",
    "%%R\n",
    "length(unique(df$seqid))"
   ]
  },
  {
   "cell_type": "code",
   "execution_count": 14,
   "metadata": {},
   "outputs": [
    {
     "name": "stdout",
     "output_type": "stream",
     "text": [
      "334 ms ± 0 ns per loop (mean ± std. dev. of 1 run, 1 loop each)\n"
     ]
    }
   ],
   "source": [
    "%%timeit -n 1 -r 1\n",
    "df.source.value_counts()"
   ]
  },
  {
   "cell_type": "code",
   "execution_count": 15,
   "metadata": {},
   "outputs": [
    {
     "data": {
      "text/plain": [
       "\n",
       "        havana ensembl_havana        ensembl              .        mirbase \n",
       "       1441093         745065         228212         182510           4701 \n",
       "        GRCh38          insdc \n",
       "           194             74 \n"
      ]
     },
     "metadata": {},
     "output_type": "display_data"
    },
    {
     "name": "stdout",
     "output_type": "stream",
     "text": [
      "484 ms ± 0 ns per loop (mean ± std. dev. of 1 run, 1 loop each)\n"
     ]
    }
   ],
   "source": [
    "%%timeit -n 1 -r 1\n",
    "%%R\n",
    "sort(table(df$source), decreasing = TRUE)"
   ]
  },
  {
   "cell_type": "code",
   "execution_count": 16,
   "metadata": {},
   "outputs": [
    {
     "name": "stdout",
     "output_type": "stream",
     "text": [
      "              seqid  source         type  start     end score strand phase  \\\n",
      "2511568  KI270579.1  GRCh38  supercontig      1   31033     .      .     .   \n",
      "2513683  KI270736.1  GRCh38  supercontig      1  181920     .      .     .   \n",
      "2510977  GL000220.1  GRCh38  supercontig      1  161802     .      .     .   \n",
      "2511578  KI270591.1  GRCh38  supercontig      1    5796     .      .     .   \n",
      "2511559  KI270522.1  GRCh38  supercontig      1    5674     .      .     .   \n",
      "2513045  KI270730.1  GRCh38  supercontig      1  112551     .      .     .   \n",
      "2511509  KI270420.1  GRCh38  supercontig      1    2321     .      .     .   \n",
      "2513720  KI270743.1  GRCh38  supercontig      1  210658     .      .     .   \n",
      "2512199  KI270717.1  GRCh38  supercontig      1   40062     .      .     .   \n",
      "2511459  KI270311.1  GRCh38  supercontig      1   12399     .      .     .   \n",
      "\n",
      "                                                attributes  \n",
      "2511568  ID=supercontig:KI270579.1;Alias=chrUn_KI270579...  \n",
      "2513683  ID=supercontig:KI270736.1;Alias=chr22_KI270736...  \n",
      "2510977  ID=supercontig:GL000220.1;Alias=chrUn_GL000220...  \n",
      "2511578  ID=supercontig:KI270591.1;Alias=chrUn_KI270591...  \n",
      "2511559  ID=supercontig:KI270522.1;Alias=chrUn_KI270522...  \n",
      "2513045  ID=supercontig:KI270730.1;Alias=chr17_KI270730...  \n",
      "2511509  ID=supercontig:KI270420.1;Alias=chrUn_KI270420...  \n",
      "2513720  ID=supercontig:KI270743.1;Alias=chrUn_KI270743...  \n",
      "2512199  ID=supercontig:KI270717.1;Alias=chr9_KI270717v...  \n",
      "2511459  ID=supercontig:KI270311.1;Alias=chrUn_KI270311...  \n",
      "227 ms ± 0 ns per loop (mean ± std. dev. of 1 run, 1 loop each)\n"
     ]
    }
   ],
   "source": [
    "%%timeit -n 1 -r 1\n",
    "global gdf\n",
    "gdf = df[df.source == 'GRCh38']\n",
    "gdf.shape\n",
    "print(gdf.sample(10))"
   ]
  },
  {
   "cell_type": "code",
   "execution_count": 17,
   "metadata": {},
   "outputs": [
    {
     "data": {
      "text/plain": [
       "             seqid source        type   start      end score strand phase\n",
       "2511546 KI270467.1 GRCh38 supercontig       1     3920     .      .     .\n",
       "2594561          Y GRCh38  chromosome 2781480 56887902     .      .     .\n",
       "2513975 KI270754.1 GRCh38 supercontig       1    40191     .      .     .\n",
       "2510913 GL000214.1 GRCh38 supercontig       1   137718     .      .     .\n",
       "2511563 KI270530.1 GRCh38 supercontig       1     2168     .      .     .\n",
       "2512199 KI270716.1 GRCh38 supercontig       1   153799     .      .     .\n",
       "2511635 KI270710.1 GRCh38 supercontig       1    40176     .      .     .\n",
       "2511489 KI270382.1 GRCh38 supercontig       1     4215     .      .     .\n",
       "2513729 KI270744.1 GRCh38 supercontig       1   168472     .      .     .\n",
       "2511580 KI270593.1 GRCh38 supercontig       1     3041     .      .     .\n",
       "                                                                attributes\n",
       "2511546       ID=supercontig:KI270467.1;Alias=chrUn_KI270467v1,NT_187423.1\n",
       "2594561                 ID=chromosome:Y;Alias=CM000686.2,chrY,NC_000024.10\n",
       "2513975       ID=supercontig:KI270754.1;Alias=chrUn_KI270754v1,NT_187509.1\n",
       "2510913       ID=supercontig:GL000214.1;Alias=chrUn_GL000214v1,NT_167209.1\n",
       "2511563       ID=supercontig:KI270530.1;Alias=chrUn_KI270530v1,NT_187441.1\n",
       "2512199 ID=supercontig:KI270716.1;Alias=chr2_KI270716v1_random,NT_187371.1\n",
       "2511635 ID=supercontig:KI270710.1;Alias=chr1_KI270710v1_random,NT_187365.1\n",
       "2511489       ID=supercontig:KI270382.1;Alias=chrUn_KI270382v1,NT_187488.1\n",
       "2513729       ID=supercontig:KI270744.1;Alias=chrUn_KI270744v1,NT_187499.1\n",
       "2511580       ID=supercontig:KI270593.1;Alias=chrUn_KI270593v1,NT_187456.1\n"
      ]
     },
     "metadata": {},
     "output_type": "display_data"
    },
    {
     "name": "stdout",
     "output_type": "stream",
     "text": [
      "1.03 s ± 0 ns per loop (mean ± std. dev. of 1 run, 1 loop each)\n"
     ]
    }
   ],
   "source": [
    "%%timeit -n 1 -r 1\n",
    "%%R\n",
    "gdf <- df[df$source == \"GRCh38\", ]\n",
    "dim(gdf)\n",
    "sample_n(gdf, 10)"
   ]
  },
  {
   "cell_type": "code",
   "execution_count": 18,
   "metadata": {},
   "outputs": [
    {
     "name": "stdout",
     "output_type": "stream",
     "text": [
      "3096629726\n",
      "258 ms ± 0 ns per loop (mean ± std. dev. of 1 run, 1 loop each)\n"
     ]
    }
   ],
   "source": [
    "%%timeit -n 1 -r 1\n",
    "global gdf\n",
    "gdf = gdf.copy()\n",
    "gdf['length'] = gdf.end - gdf.start + 1\n",
    "\n",
    "print(gdf.length.sum())"
   ]
  },
  {
   "cell_type": "code",
   "execution_count": 19,
   "metadata": {},
   "outputs": [
    {
     "data": {
      "text/plain": [
       "[1] 3096629726\n"
      ]
     },
     "metadata": {},
     "output_type": "display_data"
    }
   ],
   "source": [
    "%%R\n",
    "#  %%timeit -n 1 -r 1  gives an error due to $\n",
    "gdf$length <- gdf$end - gdf$start + 1\n",
    "sum(gdf$length)"
   ]
  },
  {
   "cell_type": "code",
   "execution_count": 20,
   "metadata": {},
   "outputs": [
    {
     "name": "stdout",
     "output_type": "stream",
     "text": [
      "0.0037021917421198327\n",
      "3.89 ms ± 0 ns per loop (mean ± std. dev. of 1 run, 1 loop each)\n"
     ]
    }
   ],
   "source": [
    "%%timeit -n 1 -r 1\n",
    "print(gdf[(gdf['type'] == 'supercontig')].length.sum() / gdf.length.sum())"
   ]
  },
  {
   "cell_type": "code",
   "execution_count": 21,
   "metadata": {},
   "outputs": [
    {
     "data": {
      "text/plain": [
       "[1] 0.003702192\n"
      ]
     },
     "metadata": {},
     "output_type": "display_data"
    }
   ],
   "source": [
    "\n",
    "%%R\n",
    "chrs <- c(1:23, \"X\", \"Y\", \"MT\")\n",
    "sum(subset(gdf, !seqid %in% chrs)$length) / sum(gdf$length)"
   ]
  },
  {
   "cell_type": "code",
   "execution_count": 22,
   "metadata": {},
   "outputs": [
    {
     "name": "stdout",
     "output_type": "stream",
     "text": [
      "exon                             1180596\n",
      "CDS                               704604\n",
      "five_prime_UTR                    142387\n",
      "three_prime_UTR                   133938\n",
      "transcript                         96375\n",
      "gene                               42470\n",
      "processed_transcript               28228\n",
      "aberrant_processed_transcript      26944\n",
      "NMD_transcript_variant             13761\n",
      "lincRNA                            13247\n",
      "processed_pseudogene               10722\n",
      "lincRNA_gene                        7533\n",
      "pseudogene                          3049\n",
      "RNA                                 2221\n",
      "snRNA_gene                          1909\n",
      "snRNA                               1909\n",
      "snoRNA                               956\n",
      "snoRNA_gene                          944\n",
      "pseudogenic_transcript               737\n",
      "rRNA                                 549\n",
      "rRNA_gene                            549\n",
      "miRNA                                302\n",
      "V_gene_segment                       216\n",
      "J_gene_segment                       158\n",
      "VD_gene_segment                       37\n",
      "C_gene_segment                        29\n",
      "Name: type, dtype: int64\n",
      "847 ms ± 0 ns per loop (mean ± std. dev. of 1 run, 1 loop each)\n"
     ]
    }
   ],
   "source": [
    "%%timeit -n 1 -r 1\n",
    "global edf\n",
    "edf = df[df.source.isin(['ensembl', 'havana', 'ensembl_havana'])]\n",
    "edf.shape\n",
    "\n",
    "edf.sample(10)\n",
    "print(edf.type.value_counts())"
   ]
  },
  {
   "cell_type": "code",
   "execution_count": 23,
   "metadata": {},
   "outputs": [
    {
     "data": {
      "text/plain": [
       "        seqid         source            type     start       end score strand\n",
       "1261964    19        ensembl            exon  17172759  17172963     .      +\n",
       "356471     11 ensembl_havana            exon  14517642  14517745     .      -\n",
       "1363595    19         havana            exon  58416811  58417119     .      +\n",
       "633479     12         havana three_prime_UTR 132843011 132843083     .      -\n",
       "2132622     6         havana      transcript  46903471  46909078     .      +\n",
       "2505045     9         havana            exon 136955371 136955497     .      +\n",
       "2045475     5 ensembl_havana             CDS 141659408 141659476     .      -\n",
       "1357003    19 ensembl_havana            exon  55499816  55500412     .      +\n",
       "317898     10 ensembl_havana            exon 119932133 119932318     .      +\n",
       "143325      1         havana            exon 150965173 150966288     .      -\n",
       "        phase\n",
       "1261964     .\n",
       "356471      .\n",
       "1363595     .\n",
       "633479      .\n",
       "2132622     .\n",
       "2505045     .\n",
       "2045475     0\n",
       "1357003     .\n",
       "317898      .\n",
       "143325      .\n",
       "                                                                                                                                                                                                                                  attributes\n",
       "1261964                                                                                  Parent=transcript:ENST00000397274;Name=ENSE00000777970;constitutive=0;ensembl_end_phase=1;ensembl_phase=0;exon_id=ENSE00000777970;rank=12;version=1\n",
       "356471                                                                                    Parent=transcript:ENST00000418988;Name=ENSE00003565942;constitutive=0;ensembl_end_phase=2;ensembl_phase=0;exon_id=ENSE00003565942;rank=5;version=1\n",
       "1363595                                                                                 Parent=transcript:ENST00000596921;Name=ENSE00002992387;constitutive=0;ensembl_end_phase=-1;ensembl_phase=-1;exon_id=ENSE00002992387;rank=3;version=1\n",
       "633479                                                                                                                                                                                                     Parent=transcript:ENST00000544093\n",
       "2132622 ID=transcript:ENST00000451135;Parent=gene:ENSG00000225730;Name=RP3-365O12.2-001;biotype=antisense;havana_transcript=OTTHUMT00000040809;havana_version=1;tag=basic;transcript_id=ENST00000451135;transcript_support_level=1;version=1\n",
       "2505045                                                                                 Parent=transcript:ENST00000371632;Name=ENSE00001741473;constitutive=0;ensembl_end_phase=-1;ensembl_phase=-1;exon_id=ENSE00001741473;rank=5;version=1\n",
       "2045475                                                                                                                                                  ID=CDS:ENSP00000239440;Parent=transcript:ENST00000239440;protein_id=ENSP00000239440\n",
       "1357003                                                                                  Parent=transcript:ENST00000587166;Name=ENSE00001506399;constitutive=0;ensembl_end_phase=1;ensembl_phase=1;exon_id=ENSE00001506399;rank=10;version=2\n",
       "317898                                                                                   Parent=transcript:ENST00000369075;Name=ENSE00003606659;constitutive=0;ensembl_end_phase=1;ensembl_phase=1;exon_id=ENSE00003606659;rank=16;version=1\n",
       "143325                                                                                 Parent=transcript:ENST00000345896;Name=ENSE00001448362;constitutive=0;ensembl_end_phase=-1;ensembl_phase=-1;exon_id=ENSE00001448362;rank=10;version=2\n"
      ]
     },
     "metadata": {},
     "output_type": "display_data"
    },
    {
     "name": "stdout",
     "output_type": "stream",
     "text": [
      "1.1 s ± 0 ns per loop (mean ± std. dev. of 1 run, 1 loop each)\n"
     ]
    }
   ],
   "source": [
    "%%timeit -n 1 -r 1\n",
    "%%R\n",
    "edf <- subset(df, source %in% c(\"ensembl\", \"havana\", \"ensembl_havana\"))\n",
    "dim(edf)\n",
    "sample_n(edf, 10)"
   ]
  },
  {
   "cell_type": "code",
   "execution_count": 24,
   "metadata": {},
   "outputs": [
    {
     "name": "stdout",
     "output_type": "stream",
     "text": [
      "(42470, 9)\n",
      "210 ms ± 0 ns per loop (mean ± std. dev. of 1 run, 1 loop each)\n"
     ]
    }
   ],
   "source": [
    "%%timeit -n 1 -r 1\n",
    "global ndf\n",
    "ndf = edf[edf.type == 'gene']\n",
    "ndf = ndf.copy()\n",
    "ndf.sample(10).attributes.values\n",
    "print(ndf.shape)"
   ]
  },
  {
   "cell_type": "code",
   "execution_count": 25,
   "metadata": {},
   "outputs": [
    {
     "data": {
      "text/plain": [
       " [1] ID=gene:ENSG00000172037;Name=LAMB2;biotype=protein_coding;description=laminin subunit beta 2 [Source:HGNC Symbol%3BAcc:HGNC:6487];gene_id=ENSG00000172037;havana_gene=OTTHUMG00000156807;havana_version=4;logic_name=ensembl_havana_gene;version=13                           \n",
       " [2] ID=gene:ENSG00000257864;Name=RP11-46I1.2;biotype=processed_pseudogene;gene_id=ENSG00000257864;havana_gene=OTTHUMG00000169430;havana_version=1;logic_name=havana;version=1                                                                                                     \n",
       " [3] ID=gene:ENSG00000165097;Name=KDM1B;biotype=protein_coding;description=lysine demethylase 1B [Source:HGNC Symbol%3BAcc:HGNC:21577];gene_id=ENSG00000165097;havana_gene=OTTHUMG00000014316;havana_version=4;logic_name=ensembl_havana_gene;version=13                           \n",
       " [4] ID=gene:ENSG00000164778;Name=EN2;biotype=protein_coding;description=engrailed homeobox 2 [Source:HGNC Symbol%3BAcc:HGNC:3343];gene_id=ENSG00000164778;havana_gene=OTTHUMG00000151354;havana_version=1;logic_name=ensembl_havana_gene;version=4                                \n",
       " [5] ID=gene:ENSG00000107223;Name=EDF1;biotype=protein_coding;description=endothelial differentiation related factor 1 [Source:HGNC Symbol%3BAcc:HGNC:3164];gene_id=ENSG00000107223;havana_gene=OTTHUMG00000020948;havana_version=1;logic_name=ensembl_havana_gene;version=12      \n",
       " [6] ID=gene:ENSG00000152669;Name=CCNO;biotype=protein_coding;description=cyclin O [Source:HGNC Symbol%3BAcc:HGNC:18576];gene_id=ENSG00000152669;havana_gene=OTTHUMG00000162598;havana_version=1;logic_name=ensembl_havana_gene;version=8                                          \n",
       " [7] ID=gene:ENSG00000135929;Name=CYP27A1;biotype=protein_coding;description=cytochrome P450 family 27 subfamily A member 1 [Source:HGNC Symbol%3BAcc:HGNC:2605];gene_id=ENSG00000135929;havana_gene=OTTHUMG00000048238;havana_version=6;logic_name=ensembl_havana_gene;version=8  \n",
       " [8] ID=gene:ENSG00000188002;Name=RP11-43F13.1;biotype=transcribed_unprocessed_pseudogene;gene_id=ENSG00000188002;havana_gene=OTTHUMG00000161734;havana_version=3;logic_name=havana;version=10                                                                                     \n",
       " [9] ID=gene:ENSG00000263483;Name=MTATP6P3;biotype=unprocessed_pseudogene;description=mitochondrially encoded ATP synthase 6 pseudogene 3 [Source:HGNC Symbol%3BAcc:HGNC:44577];gene_id=ENSG00000263483;havana_gene=OTTHUMG00000179092;havana_version=2;logic_name=havana;version=1\n",
       "[10] ID=gene:ENSG00000187504;Name=RPL7P48;biotype=processed_pseudogene;description=ribosomal protein L7 pseudogene 48 [Source:HGNC Symbol%3BAcc:HGNC:35540];gene_id=ENSG00000187504;havana_gene=OTTHUMG00000157881;havana_version=1;logic_name=havana;version=6                    \n",
       "1623077 Levels: external_name=Ala;logic_name=trnascan ...\n"
      ]
     },
     "metadata": {},
     "output_type": "display_data"
    },
    {
     "name": "stdout",
     "output_type": "stream",
     "text": [
      "3min 39s ± 0 ns per loop (mean ± std. dev. of 1 run, 1 loop each)\n"
     ]
    }
   ],
   "source": [
    "%%timeit -n 1 -r 1\n",
    "%%R\n",
    "ndf <- subset(edf, type == \"gene\")\n",
    "sample_n(ndf, 10)$attributes"
   ]
  },
  {
   "cell_type": "code",
   "execution_count": 24,
   "metadata": {},
   "outputs": [
    {
     "name": "stdout",
     "output_type": "stream",
     "text": [
      "198 ms ± 0 ns per loop (mean ± std. dev. of 1 run, 1 loop each)\n"
     ]
    }
   ],
   "source": [
    "%%timeit -n 1 -r 1\n",
    "import re\n",
    "\n",
    "RE_GENE_NAME = re.compile(r'Name=(?P<gene_name>.+?);')\n",
    "def extract_gene_name(attributes_str):\n",
    "    res = RE_GENE_NAME.search(attributes_str)\n",
    "    return res.group('gene_name')\n",
    "\n",
    "\n",
    "ndf['gene_name'] = ndf.attributes.apply(extract_gene_name)\n",
    "\n",
    "RE_GENE_ID = re.compile(r'gene_id=(?P<gene_id>ENSG.+?);')\n",
    "def extract_gene_id(attributes_str):\n",
    "    res = RE_GENE_ID.search(attributes_str)\n",
    "    return res.group('gene_id')\n",
    "\n",
    "\n",
    "ndf['gene_id'] = ndf.attributes.apply(extract_gene_id)\n",
    "\n",
    "\n",
    "RE_DESC = re.compile('description=(?P<desc>.+?);')\n",
    "def extract_description(attributes_str):\n",
    "    res = RE_DESC.search(attributes_str)\n",
    "    if res is None:\n",
    "        return ''\n",
    "    else:\n",
    "        return res.group('desc')\n",
    "\n",
    "\n",
    "ndf['desc'] = ndf.attributes.apply(extract_description)\n",
    "\n",
    "ndf.drop('attributes', axis=1, inplace=True)\n",
    "ndf.head()"
   ]
  },
  {
   "cell_type": "code",
   "execution_count": 25,
   "metadata": {},
   "outputs": [
    {
     "data": {
      "text/plain": [
       "   user  system elapsed \n",
       "  1.307   0.017   1.322 \n",
       "    seqid         source type  start    end score strand phase gene_name\n",
       "17      1         havana gene  11869  14409     .      +     .   DDX11L1\n",
       "29      1         havana gene  14404  29570     .      -     .    WASH7P\n",
       "72      1         havana gene  52473  53312     .      +     .    OR4G4P\n",
       "75      1         havana gene  62948  63887     .      +     .   OR4G11P\n",
       "78      1 ensembl_havana gene  69091  70008     .      +     .     OR4F5\n",
       "109     1         havana gene 131025 134836     .      +     .    CICP27\n",
       "            gene_id\n",
       "17  ENSG00000223972\n",
       "29  ENSG00000227232\n",
       "72  ENSG00000268020\n",
       "75  ENSG00000240361\n",
       "78  ENSG00000186092\n",
       "109 ENSG00000233750\n",
       "                                                                                                  desc\n",
       "17                                 DEAD/H-box helicase 11 like 1 [Source:HGNC Symbol%3BAcc:HGNC:37102]\n",
       "29                       WAS protein family homolog 7 pseudogene [Source:HGNC Symbol%3BAcc:HGNC:38034]\n",
       "72   olfactory receptor family 4 subfamily G member 4 pseudogene [Source:HGNC Symbol%3BAcc:HGNC:14822]\n",
       "75  olfactory receptor family 4 subfamily G member 11 pseudogene [Source:HGNC Symbol%3BAcc:HGNC:31276]\n",
       "78              olfactory receptor family 4 subfamily F member 5 [Source:HGNC Symbol%3BAcc:HGNC:14825]\n",
       "109              capicua transcriptional repressor pseudogene 27 [Source:HGNC Symbol%3BAcc:HGNC:48835]\n"
      ]
     },
     "metadata": {},
     "output_type": "display_data"
    }
   ],
   "source": [
    "%%R\n",
    "ptm <- proc.time()\n",
    "ndf$gene_name <- gsub(\"(.*Name=)(.*?)(;biotype.*)\", \"\\\\2\", ndf$attributes)\n",
    "ndf$gene_id <- gsub(\"(ID=gene:)(.*?)(;Name.*)\", \"\\\\2\", ndf$attributes)\n",
    "ndf$desc <- gsub(\"(.*description=)(.*?)(;.*)\", \"\\\\2\", ndf$attributes)\n",
    "\n",
    "# some genes don't have a description\n",
    "ndf$desc <- ifelse(grepl(\"^ID=.*\", ndf$desc), \"\", ndf$desc)\n",
    "\n",
    "ndf <- subset(ndf, select = -attributes)\n",
    "print(proc.time() - ptm)\n",
    "head(ndf)"
   ]
  },
  {
   "cell_type": "markdown",
   "metadata": {},
   "source": [
    "Jump to plotting\n"
   ]
  },
  {
   "cell_type": "code",
   "execution_count": 26,
   "metadata": {},
   "outputs": [
    {
     "data": {
      "text/plain": [
       "count    4.247000e+04\n",
       "mean     3.583348e+04\n",
       "std      9.683485e+04\n",
       "min      8.000000e+00\n",
       "25%      8.840000e+02\n",
       "50%      5.170500e+03\n",
       "75%      3.055200e+04\n",
       "max      2.304997e+06\n",
       "Name: length, dtype: float64"
      ]
     },
     "execution_count": 26,
     "metadata": {},
     "output_type": "execute_result"
    }
   ],
   "source": [
    "ndf['length'] = ndf.end - ndf.start + 1\n",
    "ndf.length.describe()"
   ]
  },
  {
   "cell_type": "code",
   "execution_count": 27,
   "metadata": {},
   "outputs": [
    {
     "data": {
      "text/plain": [
       "   Min. 1st Qu.  Median    Mean 3rd Qu.    Max. \n",
       "      8     884    5170   35834   30552 2304997 \n"
      ]
     },
     "metadata": {},
     "output_type": "display_data"
    }
   ],
   "source": [
    "%%R\n",
    "ndf$length <- ndf$end - ndf$start + 1\n",
    "summary(ndf$length)"
   ]
  },
  {
   "cell_type": "code",
   "execution_count": 28,
   "metadata": {},
   "outputs": [
    {
     "name": "stdout",
     "output_type": "stream",
     "text": [
      "255 ms ± 0 ns per loop (mean ± std. dev. of 1 run, 1 loop each)\n"
     ]
    },
    {
     "data": {
      "image/png": "[encoded data removed]",
      "text/plain": [
       "<matplotlib.figure.Figure at 0x10f95ae80>"
      ]
     },
     "metadata": {},
     "output_type": "display_data"
    }
   ],
   "source": [
    "%%timeit -n 1 -r 1\n",
    "ndf.length.plot(kind='hist', bins=50, logy=True)"
   ]
  },
  {
   "cell_type": "code",
   "execution_count": 29,
   "metadata": {},
   "outputs": [
    {
     "data": {
      "image/png": "[encoded data removed]"
     },
     "metadata": {},
     "output_type": "display_data"
    },
    {
     "name": "stdout",
     "output_type": "stream",
     "text": [
      "1.06 s ± 0 ns per loop (mean ± std. dev. of 1 run, 1 loop each)\n"
     ]
    }
   ],
   "source": [
    "%%timeit -n 1 -r 1\n",
    "%%R\n",
    "ndf %>% ggplot(aes(x = length)) + \n",
    "  geom_histogram(bins = 50, fill = \"blue\") + \n",
    "  scale_y_log10()"
   ]
  },
  {
   "cell_type": "code",
   "execution_count": null,
   "metadata": {},
   "outputs": [],
   "source": []
  },
  {
   "cell_type": "code",
   "execution_count": null,
   "metadata": {},
   "outputs": [],
   "source": []
  }
 ],
 "metadata": {
  "kernelspec": {
   "display_name": "Python 3",
   "language": "python",
   "name": "python3"
  },
  "language_info": {
   "codemirror_mode": {
    "name": "ipython",
    "version": 3
   },
   "file_extension": ".py",
   "mimetype": "text/x-python",
   "name": "python",
   "nbconvert_exporter": "python",
   "pygments_lexer": "ipython3",
   "version": "3.6.4"
  }
 },
 "nbformat": 4,
 "nbformat_minor": 2
}
