{
 "cells": [
  {
   "cell_type": "markdown",
   "metadata": {},
   "source": [
    "## Excercise 1\n",
    "\n",
    "Count the sum of even and distinct numbers in the list `lst`"
   ]
  },
  {
   "cell_type": "code",
   "execution_count": 2,
   "metadata": {
    "collapsed": true
   },
   "outputs": [],
   "source": [
    "lst = [1, 3, 8, 23, 12, 8, 0, 1]\n",
    "\n",
    "rdd = sc.parallelize(lst\n",
    "                     \n",
    "result = rdd.distinct()\\\n",
    "           .filter(<Fill out>)\\\n",
    "           .reduce(<Fill out>)"
   ]
  },
  {
   "cell_type": "markdown",
   "metadata": {},
   "source": [
    "## Excercise 2\n",
    "\n",
    "Count number of letters in words in string `s`."
   ]
  },
  {
   "cell_type": "code",
   "execution_count": 4,
   "metadata": {
    "collapsed": true
   },
   "outputs": [],
   "source": [
    "s = \"We love some data science Please give us some more data science Give us some more Python\"\n",
    "words_list = s.lower().split()\n",
    "rdd = sc.parallelize(words_list)\n",
    "\n",
    "rdd.map(<Fill out>)\\\n",
    "   .reduce(lambda x, y: x + y)"
   ]
  },
  {
   "cell_type": "markdown",
   "metadata": {},
   "source": [
    "## Excercise 3\n",
    "\n",
    "Count number of occurences of each word in string `s`"
   ]
  },
  {
   "cell_type": "code",
   "execution_count": 6,
   "metadata": {
    "collapsed": true
   },
   "outputs": [],
   "source": [
    "s = \"We love some data science Please give us some more data science Give us some more Python\"\n",
    "words_list = s.lower().split()\n",
    "rdd = sc.parallelize(words_list)\n",
    "\n",
    "rdd.map(lambda word: (word, 1))\\\n",
    "   .reduceByKey(<Fill out>)\\\n",
    "   .collect()"
   ]
  },
  {
   "cell_type": "markdown",
   "metadata": {},
   "source": [
    "## Excercise 4\n",
    "\n",
    "Count number of occurences of each word containing letters `d` or `e` in string `s`"
   ]
  },
  {
   "cell_type": "code",
   "execution_count": 8,
   "metadata": {
    "collapsed": true
   },
   "outputs": [],
   "source": [
    "s = \"We love some data science Please give us some more data science Give us some more Python\"\n",
    "words_list = s.lower().split()\n",
    "rdd = sc.parallelize(words_list)\n",
    "\n",
    "rdd.<Fill out>\\\n",
    "   .collect()"
   ]
  }
 ],
 "metadata": {
  "kernelspec": {
   "display_name": "Python 3",
   "language": "python",
   "name": "python3"
  },
  "language_info": {
   "codemirror_mode": {
    "name": "ipython",
    "version": 3
   },
   "file_extension": ".py",
   "mimetype": "text/x-python",
   "name": "python",
   "nbconvert_exporter": "python",
   "pygments_lexer": "ipython3",
   "version": "3.6.3"
  },
  "name": "7_2_spark_excercises",
  "notebookId": 1553755982726646
 },
 "nbformat": 4,
 "nbformat_minor": 2
}
