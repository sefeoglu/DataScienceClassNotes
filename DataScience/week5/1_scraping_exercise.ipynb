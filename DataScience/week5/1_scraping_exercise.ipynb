{
  "cells": [
    {
      "cell_type": "markdown",
      "source": [
        "# Scraping WWW Exercises"
      ],
      "metadata": {}
    },
    {
      "cell_type": "markdown",
      "source": [
        "## Exercise 1"
      ],
      "metadata": {
        "inputHidden": false,
        "outputHidden": false
      }
    },
    {
      "cell_type": "markdown",
      "source": [
        "Examine front page of BILD newspaper (www.bild.de) and create a list of all articles that can be found on that page. Each item of the list must contain\n",
        "\n",
        "* article title,\n",
        "* main image of the article,\n",
        "* url of the article.\n",
        "\n",
        "**Hint:**\n",
        "\n",
        "* request content of `www.bild.de` page and use `\"rel\": \"bookmark\"` properties for identifying links pointing at artiles,\n",
        "* request the content of each article for obtaining the url, the title, the teaser and main image of the article,\n",
        "* you can use `\"og\"` properties of `<meta>` tag whithin an article to retrieve its title, main image and url."
      ],
      "metadata": {}
    },
    {
      "cell_type": "code",
      "source": [],
      "outputs": [],
      "execution_count": null,
      "metadata": {}
    },
    {
      "cell_type": "code",
      "source": [
        "print(articles[:2])"
      ],
      "outputs": [
        {
          "output_type": "stream",
          "name": "stdout",
          "text": [
            "[{'title': '„Die Höhle der Löwen“ bekommt neuen Juror', 'image': 'https://bilder.bild.de/fotos/die-hoehle-der-loewen-bekommt-neuen-juror-200920382-58493360/Bild/3,club=bildplus.bild.jpg', 'url': 'https://www.bild.de/bild-plus/unterhaltung/tv/tv/die-hoehle-der-loewen-bekommt-neuen-juror-58493188,view=conversionToLogin.bild.html'}, {'title': 'Tennis, ATP Finals: Fans pfeifen Zverev nach Sieg gegen Federer aus', 'image': 'https://bilder.bild.de/fotos/tennis-atp-finals-fans-pfeifen-zverev-nach-sieg-gegen-federer-aus-200977198-58494646/Bild/6.bild.jpg', 'url': 'https://www.bild.de/sport/mehr-sport/tennis/tennis-atp-finals-alexander-zverev-siegt-gegen-roger-federer-58493418.bild.html'}]\n"
          ]
        }
      ],
      "execution_count": 3,
      "metadata": {
        "collapsed": false,
        "inputHidden": false,
        "outputHidden": false
      }
    },
    {
      "cell_type": "markdown",
      "source": [
        "## Exercise 2"
      ],
      "metadata": {
        "inputHidden": false,
        "outputHidden": false
      }
    },
    {
      "cell_type": "markdown",
      "source": [
        "Scrape International Movies Database (IMDB) at [imdb.com](https://imdb.com) for top 1000 films released in year 2018 with the highest US box office. The result must me a list containing 1000 elements, where each element is a ditionary with elements \n",
        "\n",
        "* `name` - title of the movie, \n",
        "* `year` - release year of the movie, \n",
        "* `imdb` - IMDB score of the movie, \n",
        "* `m_score` - meta score of the movie, \n",
        "* `vote` - number of votes.\n",
        "\n",
        "**Hint:**\n",
        "\n",
        "* use `https://www.imdb.com/search/title?release_date=2018&sort=boxoffice_gross_us,desc&start=1` to get first top 50 movies; by setting `start` to `51`, `101`, etc. navigate through the movies list,\n",
        "* you may want to use `sleep(randint(0,10))` from `time` module to introduce a delay between the request in order to avoid being temporary banned for scraping the content,\n",
        "* use developer tools for identifying `<div>` containers containing information about movies,\n",
        "* release of a movie may be presented as `(2018)`, `(I) (2018)`, `(II) (2018)` etc.; use `int(year[-5:-1])` for converting it into integer.|"
      ],
      "metadata": {}
    },
    {
      "cell_type": "code",
      "source": [],
      "outputs": [],
      "execution_count": null,
      "metadata": {}
    },
    {
      "cell_type": "code",
      "source": [
        "print(films[:2])"
      ],
      "outputs": [
        {
          "output_type": "stream",
          "name": "stdout",
          "text": [
            "[{'name': 'Black Panther', 'year': 2018, 'imdb': 7.4, 'm_score': 88, 'vote': 413514}, {'name': 'Avengers: Infinity War', 'year': 2018, 'imdb': 8.5, 'm_score': 68, 'vote': 522608}]\n"
          ]
        }
      ],
      "execution_count": 5,
      "metadata": {
        "collapsed": false,
        "inputHidden": false,
        "outputHidden": false
      }
    }
  ],
  "metadata": {
    "kernel_info": {
      "name": "python3"
    },
    "kernelspec": {
      "name": "python3",
      "language": "python",
      "display_name": "Python 3"
    },
    "language_info": {
      "name": "python",
      "version": "3.6.4",
      "mimetype": "text/x-python",
      "codemirror_mode": {
        "name": "ipython",
        "version": 3
      },
      "pygments_lexer": "ipython3",
      "nbconvert_exporter": "python",
      "file_extension": ".py"
    },
    "nteract": {
      "version": "0.12.3"
    }
  },
  "nbformat": 4,
  "nbformat_minor": 2
}