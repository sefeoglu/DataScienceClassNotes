{
 "cells": [
  {
   "cell_type": "markdown",
   "metadata": {},
   "source": [
    "# Scraping Data from WWW Exercises"
   ]
  },
  {
   "cell_type": "markdown",
   "metadata": {},
   "source": [
    "## Exercise 1"
   ]
  },
  {
   "cell_type": "markdown",
   "metadata": {},
   "source": [
    "Using [Open APIs From Space](http://open-notify.org) output the current latitude and longitute of the International Space Station and number of its crew members and their names.\n",
    "\n",
    "**Hints:**\n",
    "\n",
    "* Check [API documentation](http://api.open-notify.org).\n",
    "* User `requests` library to query the API.\n",
    "* The API returns responses in JSON format. To use retrieved JSON a a Python dictionary, apply `respose.json()`, where `response` is a variable holding the results of `requests.get(<url>)` request."
   ]
  },
  {
   "cell_type": "code",
   "execution_count": 11,
   "metadata": {},
   "outputs": [],
   "source": [
    "import requests"
   ]
  },
  {
   "cell_type": "code",
   "execution_count": 4,
   "metadata": {},
   "outputs": [
    {
     "name": "stdout",
     "output_type": "stream",
     "text": [
      "Current ISS position: longitude: 153.4464, latitude:-4.4499\n"
     ]
    }
   ],
   "source": [
    "# code for getting ISS's coordinates"
   ]
  },
  {
   "cell_type": "code",
   "execution_count": 10,
   "metadata": {},
   "outputs": [
    {
     "name": "stdout",
     "output_type": "stream",
     "text": [
      "Number of crew members on ISS: 3\n",
      "Crew member 10: Sergey Prokopyev\n",
      "Crew member 11: Alexander Gerst\n",
      "Crew member 12: Serena Aunon-Chancellor\n"
     ]
    }
   ],
   "source": [
    "# code for getting ISS crew members"
   ]
  },
  {
   "cell_type": "markdown",
   "metadata": {},
   "source": [
    "## Exercise 2"
   ]
  },
  {
   "cell_type": "markdown",
   "metadata": {},
   "source": [
    "List 10 popular latest tweets of Donald Trump (with more than 1000000 retweets)\n",
    "\n",
    "**Hints:**\n",
    "\n",
    "* Before you can access Twitter API you need to register a new Twitter app, which since July 2018 requires an approval from Twitter team. Twitter app provides you with Customer key and secret and Application key and secret. For the same of simplicity use keys and secrets provided in the code below (variables `cKey`, `cSecret`, `aKey`, `aSecret`).\n",
    "* You may use [python-twitter](https://github.com/bear/python-twitter) library that can be installed by running `pip install python-twitter` in your Anaconda environment's termina.\n",
    "* Be aware of [rate limits](https://dev.twitter.com/rest/public/rate-limiting), so try not to make to many calls to the API to avoid exhausting you 15 minutes window limit."
   ]
  },
  {
   "cell_type": "code",
   "execution_count": 1,
   "metadata": {},
   "outputs": [],
   "source": [
    "import twitter\n",
    "\n",
    "# Customer key and secret\n",
    "cKey = 'tOZWzonsap454dtjS1aHy17Bd'\n",
    "cSecret = 'fRVCa1WpS8lapp9pVQdr82X4UamEsfMLDoobm0kkN9yepg8chz'\n",
    "\n",
    "# Application key and secret\n",
    "aKey = '560363551-rDPjiQQ91OW4x8YE5OS8QySkmwus9SM8IBuTNF6J'\n",
    "aSecret = 'bU1cAoGTFIeoRbZkz23eeazy98rWZ5THzM43DsB3cBvms'\n",
    "\n",
    "## create the api object with the twitter-python library\n",
    "api = twitter.Api(consumer_key=cKey, consumer_secret=cSecret, \n",
    "                  access_token_key=aKey, access_token_secret=aSecret, tweet_mode=\"extended\")"
   ]
  },
  {
   "cell_type": "code",
   "execution_count": 6,
   "metadata": {},
   "outputs": [
    {
     "name": "stdout",
     "output_type": "stream",
     "text": [
      "######\n",
      "So great that oil prices are falling (thank you President T). Add that, which is like a big Tax Cut, to our other good Economic news. Inflation down (are you listening Fed)!\n",
      "######\n",
      "Would be very SMART if Mexico would stop the Caravans long before they get to our Southern Border, or if originating countries would not let them form (it is a way they get certain people out of their country and dump in U.S. No longer). Dems created this problem. No crossings!\n",
      "######\n",
      "I will be in Gulfport and Tupelo, Mississippi, on Monday night doing two Rallies for Senator Hyde-Smith, who has a very important Election on Tuesday. She is an outstanding person who is strong on the Border, Crime, Military, our great Vets, Healthcare &amp; the 2nd A. Needed in D.C.\n",
      "######\n",
      "....All will stay in Mexico. If for any reason it becomes necessary, we will CLOSE our Southern Border. There is no way that the United States will, after decades of abuse, put up with this costly and dangerous situation anymore!\n",
      "######\n",
      "Migrants at the Southern Border will not be allowed into the United States until their claims are individually approved in court. We only will allow those who come into our Country legally. Other than that our very strong policy is Catch and Detain. No “Releasing” into the U.S...\n",
      "######\n",
      "RT @realDonaldTrump: The Fake News is showing old footage of people climbing over our Ocean Area Fence. This is what it really looks like -…\n",
      "######\n",
      "I am extremely happy and proud of the job being done by @USTreasury Secretary @StevenMnuchin1. The FAKE NEWS likes to write stories to the contrary, quoting phony sources or jealous people, but they aren’t true. They never like to ask me for a quote b/c it would kill their story.\n",
      "######\n",
      "Really good Criminal Justice Reform has a true shot at major bipartisan support. @senatemajldr Mitch McConnell and @SenSchumer have a real chance to do something so badly needed in our country. Already passed, with big vote, in House. Would be a major victory for ALL!\n",
      "######\n",
      "Republicans and Democrats MUST come together, finally, with a major Border Security package, which will include funding for the Wall. After 40 years of talk, it is finally time for action. Fix the Border, for once and for all, NOW!\n",
      "######\n",
      "Our highly trained security professionals are not allowed to do their job on the Border because of the Judicial Activism and Interference by the 9th Circuit. Nevertheless, they are working hard to make America a safer place, though hard to do when anybody filing a lawsuit wins!\n"
     ]
    }
   ],
   "source": [
    "# your solution here"
   ]
  },
  {
   "cell_type": "code",
   "execution_count": null,
   "metadata": {},
   "outputs": [],
   "source": []
  }
 ],
 "metadata": {
  "kernelspec": {
   "display_name": "Python 3",
   "language": "python",
   "name": "python3"
  },
  "language_info": {
   "codemirror_mode": {
    "name": "ipython",
    "version": 3
   },
   "file_extension": ".py",
   "mimetype": "text/x-python",
   "name": "python",
   "nbconvert_exporter": "python",
   "pygments_lexer": "ipython3",
   "version": "3.6.4"
  }
 },
 "nbformat": 4,
 "nbformat_minor": 2
}
